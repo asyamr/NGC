{
 "cells": [
  {
   "cell_type": "markdown",
   "metadata": {},
   "source": [
    "# Objektif"
   ]
  },
  {
   "cell_type": "markdown",
   "metadata": {},
   "source": [
    "This Non Graded Challenge was created to evaluate the concept of Python Syntax, Variable, and Data Type  with the aim of:\n",
    "\n",
    "1.Get a grip about python basic syntax.\n",
    "2.Able to utilize python variable.\n",
    "3.Able to implement python data type utilization"
   ]
  },
  {
   "cell_type": "markdown",
   "metadata": {},
   "source": [
    "### Task 1 \n",
    "![alt text](image-1.png)"
   ]
  },
  {
   "cell_type": "code",
   "execution_count": 10,
   "metadata": {},
   "outputs": [],
   "source": [
    "customer_id = ['B818', 'A461', 'A092', 'A082', 'B341', 'A005', \n",
    "               'A092', 'A461','B219', 'B904', 'A901', 'A083', \n",
    "               'B904', 'A092', 'B341', 'B821','B341', 'B821', \n",
    "               'B904', 'B818', 'A901', 'A083', 'B818', 'A082',\n",
    "               'B219', 'B219', 'A083', 'A901', 'A082', 'B341', \n",
    "               'B341', 'A083','A082', 'B219', 'B439', 'A461', \n",
    "               'A005', 'A901', 'B341', 'A082','A083', 'A461', \n",
    "               'A083', 'A901', 'A461', 'A083', 'A082', 'A083',\n",
    "               'B341', 'A901', 'A082', 'A461', 'B219', 'A083', \n",
    "               'B818', 'B821','A092', 'B341', 'A461', 'A092', \n",
    "               'A083', 'B821', 'A092']"
   ]
  },
  {
   "cell_type": "code",
   "execution_count": 11,
   "metadata": {},
   "outputs": [
    {
     "data": {
      "text/plain": [
       "12"
      ]
     },
     "execution_count": 11,
     "metadata": {},
     "output_type": "execute_result"
    }
   ],
   "source": [
    "len(set(customer_id))"
   ]
  },
  {
   "cell_type": "markdown",
   "metadata": {},
   "source": [
    "## Task 2"
   ]
  },
  {
   "cell_type": "markdown",
   "metadata": {},
   "source": [
    "Given list of :\n",
    "\n",
    "data =  [1,4,9,16,25,36,49,64,81,100]\n",
    "\n",
    "use indexing so you can get this output : \n",
    "a.[16]\n",
    "b.[36,49,64,81]\n",
    "c.[100,81,64,36,25,16,9,4,1]"
   ]
  },
  {
   "cell_type": "code",
   "execution_count": 12,
   "metadata": {},
   "outputs": [],
   "source": [
    "data = [1,4,9,16,25,36,49,64,81,100]"
   ]
  },
  {
   "cell_type": "code",
   "execution_count": 13,
   "metadata": {},
   "outputs": [
    {
     "data": {
      "text/plain": [
       "16"
      ]
     },
     "execution_count": 13,
     "metadata": {},
     "output_type": "execute_result"
    }
   ],
   "source": [
    "#16\n",
    "\n",
    "data[3]"
   ]
  },
  {
   "cell_type": "code",
   "execution_count": 14,
   "metadata": {},
   "outputs": [
    {
     "data": {
      "text/plain": [
       "[36, 49, 64, 81]"
      ]
     },
     "execution_count": 14,
     "metadata": {},
     "output_type": "execute_result"
    }
   ],
   "source": [
    "# [36,49,64,81]\n",
    "data [5:9]"
   ]
  },
  {
   "cell_type": "code",
   "execution_count": 15,
   "metadata": {},
   "outputs": [
    {
     "data": {
      "text/plain": [
       "[100, 81, 64, 49, 36, 25, 16, 9, 4, 1]"
      ]
     },
     "execution_count": 15,
     "metadata": {},
     "output_type": "execute_result"
    }
   ],
   "source": [
    "# [100,81,64,36,25,16,9,4,1]\n",
    "data[::-1]"
   ]
  },
  {
   "cell_type": "markdown",
   "metadata": {},
   "source": [
    "## Task 3"
   ]
  },
  {
   "cell_type": "markdown",
   "metadata": {},
   "source": [
    "Given a dictionary of: \n",
    "\n",
    "provinsi = {'Nanggroe Aceh Darussalam': 'Aceh',\n",
    "                'Sumatera Selatan': 'Palembang','Kalimantan Barat': \n",
    "                'Pontianak','Jawa Timur': 'Madiun',\n",
    "                'Sulawesi Selatan': 'Makassar',\n",
    "                'Maluku': 'Ambon \n",
    "            }\n",
    "                \n",
    "What python command can be use to:\n",
    "a. Get list of keys available in dictionary \n",
    "b. Change 'Jawa Timur' value from 'Madiun'  to 'Surabaya'6\n"
   ]
  },
  {
   "cell_type": "code",
   "execution_count": 16,
   "metadata": {},
   "outputs": [],
   "source": [
    "provinceDict = {'Nanggroe Aceh Darussalam': 'Aceh',\n",
    "                'Sumatera Selatan': 'Palembang',\n",
    "                'Kalimantan Barat':'Pontianak',\n",
    "                'Jawa Timur': 'Madiun',\n",
    "                'Sulawesi Selatan': 'Makassar',\n",
    "                'Maluku': 'Ambon'\n",
    "}"
   ]
  },
  {
   "cell_type": "code",
   "execution_count": 17,
   "metadata": {},
   "outputs": [
    {
     "data": {
      "text/plain": [
       "dict_keys(['Nanggroe Aceh Darussalam', 'Sumatera Selatan', 'Kalimantan Barat', 'Jawa Timur', 'Sulawesi Selatan', 'Maluku'])"
      ]
     },
     "execution_count": 17,
     "metadata": {},
     "output_type": "execute_result"
    }
   ],
   "source": [
    "#a. get list of keys \n",
    "\n",
    "provinceDict.keys()"
   ]
  },
  {
   "cell_type": "code",
   "execution_count": 18,
   "metadata": {},
   "outputs": [
    {
     "data": {
      "text/plain": [
       "{'Nanggroe Aceh Darussalam': 'Aceh',\n",
       " 'Sumatera Selatan': 'Palembang',\n",
       " 'Kalimantan Barat': 'Pontianak',\n",
       " 'Jawa Timur': 'Surabaya',\n",
       " 'Sulawesi Selatan': 'Makassar',\n",
       " 'Maluku': 'Ambon'}"
      ]
     },
     "execution_count": 18,
     "metadata": {},
     "output_type": "execute_result"
    }
   ],
   "source": [
    "#b. change madiun to surabaya\n",
    "provinceDict ['Jawa Timur'] = 'Surabaya'\n",
    "provinceDict"
   ]
  }
 ],
 "metadata": {
  "kernelspec": {
   "display_name": "base",
   "language": "python",
   "name": "python3"
  },
  "language_info": {
   "codemirror_mode": {
    "name": "ipython",
    "version": 3
   },
   "file_extension": ".py",
   "mimetype": "text/x-python",
   "name": "python",
   "nbconvert_exporter": "python",
   "pygments_lexer": "ipython3",
   "version": "3.12.2"
  }
 },
 "nbformat": 4,
 "nbformat_minor": 2
}
