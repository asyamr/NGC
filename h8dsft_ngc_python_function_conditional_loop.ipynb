{
 "cells": [
  {
   "cell_type": "markdown",
   "metadata": {},
   "source": [
    "## Task 1 - Number of Word\n",
    "\n",
    "Create a function that count the number of word in a sentence.\n",
    "\n",
    "Instruction:\n",
    "1. Create function called `number_of_word`.\n",
    "\n",
    "2. This function takes 1 input, `sentence`.\n",
    "\n",
    "3. Inside this function, you can utilize `.split()` method to split the sentence into list of word(s).\n",
    "\n",
    "4. Also, `len()` function to count the element inside a list.\n",
    "\n",
    "5. Return the number of word from the sentence.\n",
    "\n",
    "\n",
    "Example:\n",
    "- Input: number_of_word(sentence = ’Hello World!’)\n",
    "- Output: 2 \n",
    "- Input: number_of_word(sentence = ’Once Upon a Time in a faraway land’)\n",
    "- Output: 8\n"
   ]
  },
  {
   "cell_type": "code",
   "execution_count": 93,
   "metadata": {},
   "outputs": [],
   "source": [
    "#assign function\n",
    "def number_of_word (sentence):\n",
    "    #melakukan cetak jumlah kata dalam kalimat yg diinput\n",
    "    a = 'output : ', len(sentence.split())\n",
    "    return a"
   ]
  },
  {
   "cell_type": "code",
   "execution_count": 94,
   "metadata": {},
   "outputs": [
    {
     "data": {
      "text/plain": [
       "('output : ', 2)"
      ]
     },
     "execution_count": 94,
     "metadata": {},
     "output_type": "execute_result"
    }
   ],
   "source": [
    "#contoh 1\n",
    "number_of_word (\"hello world\")"
   ]
  },
  {
   "cell_type": "code",
   "execution_count": 71,
   "metadata": {},
   "outputs": [
    {
     "name": "stdout",
     "output_type": "stream",
     "text": [
      "output :  8\n"
     ]
    }
   ],
   "source": [
    "# contoh 2\n",
    "number_of_word(\"once upon a time in a faraway land\")"
   ]
  },
  {
   "cell_type": "markdown",
   "metadata": {},
   "source": [
    "## Task 2 - Find Multiple\n",
    "\n",
    "Create a function that will get list of number(s) from a certain range that multiples of given number.\n",
    "\n",
    "Instruction:\n",
    "\n",
    "1. Create function called `find_multiples`.\n",
    "2. This function takes 3 input: `start_range`, `end_range`, and `multiple`.\n",
    "3. From every number within the given range, check if that number is the mutliples of `multiple`.\n",
    "4. Return list of the possible multiple number(s).\n",
    "\n",
    "Example:\n",
    "- Input: find_multiple(start_range= 1, end_range= 20, multiple= 5)\n",
    "- Output: [5, 10, 15, 20]\n",
    "\n",
    "- Input: find_multiple(start_range= 1, end_range= 50, multiple= 10)\n",
    "- Output: [10, 20, 30, 40, 50]\n"
   ]
  },
  {
   "cell_type": "code",
   "execution_count": 97,
   "metadata": {},
   "outputs": [],
   "source": [
    "#assign function\n",
    "def find_multiples(start_range,end_range,multiple):\n",
    "    #conditional\n",
    "    for i in range(start_range,end_range+1): #looping untuk menentukan multiple dari start_range sampai end_range\n",
    "        if i % multiple == 0:\n",
    "            print(i, end=\" \")"
   ]
  },
  {
   "cell_type": "code",
   "execution_count": 98,
   "metadata": {},
   "outputs": [
    {
     "name": "stdout",
     "output_type": "stream",
     "text": [
      "5 10 15 20 "
     ]
    }
   ],
   "source": [
    "#contoh 1\n",
    "find_multiples(start_range=1,end_range=20,multiple=5)"
   ]
  },
  {
   "cell_type": "code",
   "execution_count": 68,
   "metadata": {},
   "outputs": [
    {
     "name": "stdout",
     "output_type": "stream",
     "text": [
      "10 20 30 40 50 "
     ]
    }
   ],
   "source": [
    "#contoh 2\n",
    "find_multiples(start_range=1, end_range=50, multiple=10)"
   ]
  },
  {
   "attachments": {
    "image.png": {
     "image/png": "[encoded data removed]"
    }
   },
   "cell_type": "markdown",
   "metadata": {},
   "source": [
    "## Task 3 - Grade Converter\n",
    "\n",
    "Create a function that will convert student’s grade to GPA.\n",
    "\n",
    "![image.png](attachment:image.png)\n",
    "\n",
    "Example:\n",
    "- Input: Grade_Converter(convert_to='gpa', Adam=62, Faiz=91)\n",
    "- Output: {'Adam': 2.5, 'Faiz': 4}\n",
    "\n",
    "- Input: Grade_Converter(convert_to='letter_grade', Albert=90, Dwi=82, Syahdan=58, Veronica=84) \n",
    "- Output: {'Albert': 'A', 'Dwi': 'B', 'Syahdan': 'D','Veronica': 'B'}"
   ]
  },
  {
   "cell_type": "code",
   "execution_count": 117,
   "metadata": {},
   "outputs": [
    {
     "ename": "SyntaxError",
     "evalue": "cannot assign to literal here. Maybe you meant '==' instead of '='? (1220374636.py, line 3)",
     "output_type": "error",
     "traceback": [
      "\u001b[1;36m  Cell \u001b[1;32mIn[117], line 3\u001b[1;36m\u001b[0m\n\u001b[1;33m    'nama' = nilai_siswa.keys()\u001b[0m\n\u001b[1;37m    ^\u001b[0m\n\u001b[1;31mSyntaxError\u001b[0m\u001b[1;31m:\u001b[0m cannot assign to literal here. Maybe you meant '==' instead of '='?\n"
     ]
    }
   ],
   "source": [
    "def grade_con(convert_to,**nilai_siswa):\n",
    "\n",
    "    'nama' = nilai_siswa.keys()\n",
    "    'nilai' = nilai_siswa.values()\n",
    "    \n",
    "    if convert_to == \"GPA\":\n",
    "        if 0 <= nilai < 40:\n",
    "            print ('nama' ,': 1')\n",
    "        elif 40 <= nilai < 50:\n",
    "            print (nama ,': 1.5')\n",
    "        elif 50 <= nilai < 60:\n",
    "            print (nama ,': 2')\n",
    "        elif 60 <= nilai < 70:\n",
    "            print(nama ,': 2.5')\n",
    "        elif 70 <= nilai < 85:\n",
    "            print(nama ,': 3')\n",
    "        elif 85 <= nilai < 100:\n",
    "            print (nama ,': 4')\n",
    "\n",
    "        \n",
    "    elif convert_to == 'letter_grade':\n",
    "        if 0 <= nilai < 40:\n",
    "            print (nama ,': F')\n",
    "        elif 40 <= nilai < 50:\n",
    "            print (nama ,': E')\n",
    "        elif 50 <= nilai < 60:\n",
    "            print (nama ,': D')\n",
    "        elif 60 <= nilai < 70:\n",
    "            print(nama ,': C')\n",
    "        elif 70 <= nilai < 85:\n",
    "            print(nama ,': B')\n",
    "        elif 85 <= nilai < 100:\n",
    "            print (nama ,': A')"
   ]
  },
  {
   "cell_type": "code",
   "execution_count": 116,
   "metadata": {},
   "outputs": [
    {
     "ename": "TypeError",
     "evalue": "'<=' not supported between instances of 'int' and 'dict_values'",
     "output_type": "error",
     "traceback": [
      "\u001b[1;31m---------------------------------------------------------------------------\u001b[0m",
      "\u001b[1;31mTypeError\u001b[0m                                 Traceback (most recent call last)",
      "Cell \u001b[1;32mIn[116], line 1\u001b[0m\n\u001b[1;32m----> 1\u001b[0m \u001b[43mgrade_con\u001b[49m\u001b[43m(\u001b[49m\u001b[43mconvert_to\u001b[49m\u001b[38;5;241;43m=\u001b[39;49m\u001b[38;5;124;43m\"\u001b[39;49m\u001b[38;5;124;43mGPA\u001b[39;49m\u001b[38;5;124;43m\"\u001b[39;49m\u001b[43m,\u001b[49m\u001b[43masyam\u001b[49m\u001b[38;5;241;43m=\u001b[39;49m\u001b[38;5;241;43m60\u001b[39;49m\u001b[43m,\u001b[49m\u001b[43mclara\u001b[49m\u001b[38;5;241;43m=\u001b[39;49m\u001b[38;5;241;43m70\u001b[39;49m\u001b[43m,\u001b[49m\u001b[43mthariq\u001b[49m\u001b[38;5;241;43m=\u001b[39;49m\u001b[38;5;241;43m80\u001b[39;49m\u001b[43m,\u001b[49m\u001b[43mdendi\u001b[49m\u001b[38;5;241;43m=\u001b[39;49m\u001b[38;5;241;43m90\u001b[39;49m\u001b[43m)\u001b[49m\n",
      "Cell \u001b[1;32mIn[115], line 7\u001b[0m, in \u001b[0;36mgrade_con\u001b[1;34m(convert_to, **nilai_siswa)\u001b[0m\n\u001b[0;32m      4\u001b[0m nilai \u001b[38;5;241m=\u001b[39mnilai_siswa\u001b[38;5;241m.\u001b[39mvalues()\n\u001b[0;32m      6\u001b[0m \u001b[38;5;28;01mif\u001b[39;00m convert_to \u001b[38;5;241m==\u001b[39m \u001b[38;5;124m\"\u001b[39m\u001b[38;5;124mGPA\u001b[39m\u001b[38;5;124m\"\u001b[39m:\n\u001b[1;32m----> 7\u001b[0m     \u001b[38;5;28;01mif\u001b[39;00m \u001b[38;5;241;43m0\u001b[39;49m\u001b[43m \u001b[49m\u001b[38;5;241;43m<\u001b[39;49m\u001b[38;5;241;43m=\u001b[39;49m\u001b[43m \u001b[49m\u001b[43mnilai\u001b[49m\u001b[43m \u001b[49m\u001b[38;5;241;43m<\u001b[39;49m\u001b[43m \u001b[49m\u001b[38;5;241;43m40\u001b[39;49m:\n\u001b[0;32m      8\u001b[0m         \u001b[38;5;28mprint\u001b[39m (nama ,\u001b[38;5;124m'\u001b[39m\u001b[38;5;124m: 1\u001b[39m\u001b[38;5;124m'\u001b[39m)\n\u001b[0;32m      9\u001b[0m     \u001b[38;5;28;01melif\u001b[39;00m \u001b[38;5;241m40\u001b[39m \u001b[38;5;241m<\u001b[39m\u001b[38;5;241m=\u001b[39m nilai \u001b[38;5;241m<\u001b[39m \u001b[38;5;241m50\u001b[39m:\n",
      "\u001b[1;31mTypeError\u001b[0m: '<=' not supported between instances of 'int' and 'dict_values'"
     ]
    }
   ],
   "source": [
    "grade_con(convert_to=\"GPA\",asyam=60,clara=70,thariq=80,dendi=90)"
   ]
  }
 ],
 "metadata": {
  "kernelspec": {
   "display_name": "base",
   "language": "python",
   "name": "python3"
  },
  "language_info": {
   "codemirror_mode": {
    "name": "ipython",
    "version": 3
   },
   "file_extension": ".py",
   "mimetype": "text/x-python",
   "name": "python",
   "nbconvert_exporter": "python",
   "pygments_lexer": "ipython3",
   "version": "3.12.2"
  }
 },
 "nbformat": 4,
 "nbformat_minor": 2
}
